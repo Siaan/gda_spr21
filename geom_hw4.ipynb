{
 "cells": [
  {
   "cell_type": "code",
   "execution_count": 1,
   "metadata": {},
   "outputs": [],
   "source": [
    "import numpy as np\n",
    "from matplotlib import pyplot as plt\n",
    "import itertools\n",
    "from scipy.spatial.distance import pdist\n",
    "from scipy.spatial.distance import squareform"
   ]
  },
  {
   "cell_type": "code",
   "execution_count": 2,
   "metadata": {},
   "outputs": [],
   "source": [
    "### data generation\n",
    "\n",
    "np.random.seed(1600)\n",
    "\n",
    "# returns Gaussian data centered at origin\n",
    "def generate_gaussian(d, width, num_samples):\n",
    "    return np.random.multivariate_normal(np.zeros(d), np.identity(d) * width, num_samples)\n",
    "\n",
    "def generate_cube(d, width, num_samples):\n",
    "#     data = []\n",
    "#     ran = np.linspace(-width, width, num_per_dim)\n",
    "#     for point in itertools.product(ran, repeat = d):\n",
    "#         data.append(point)\n",
    "#     return np.array(data)\n",
    "    data = []\n",
    "    while len(data) < num_samples:\n",
    "        point = np.random.normal(0,1,d)\n",
    "        if np.max(point) < 1 and np.min(point) > -1:\n",
    "            data.append(point)\n",
    "    return np.array(data * width)\n",
    "\n",
    "#generate spheres on vertices of d-dimensional simplex\n",
    "def generate_spheres(d, k, width, num_samples):\n",
    "    k = int(num_samples / d)\n",
    "    centers = []\n",
    "    for i in range(d):\n",
    "        point = np.zeros(d)\n",
    "        point[i] = 5\n",
    "        centers.append(point)\n",
    "    data = []\n",
    "    for center in centers:\n",
    "        for i in range(k):\n",
    "            s = sphere(k)\n",
    "            point = center.copy()\n",
    "            point[:k] += s\n",
    "            data.append(point)\n",
    "    return np.array(data)\n",
    "    \n",
    "def sphere(d):\n",
    "    u = np.random.normal(0,1,d)  # an array of d normally distributed random variables\n",
    "    d = np.linalg.norm(u)\n",
    "    return u/d\n",
    "\n",
    "def get_pairwise_distances(X):\n",
    "    return squareform(pdist(X, 'euclidean'))\n",
    "\n",
    "def get_pairwise_sq_distances(X):\n",
    "    return squareform(pdist(X, 'sqeuclidean'))\n",
    "\n",
    "def distance(x,y):\n",
    "    return np.linalg.norm(x - y)\n"
   ]
  },
  {
   "cell_type": "code",
   "execution_count": 3,
   "metadata": {},
   "outputs": [],
   "source": [
    "def dim_estimate(X, k1, k2):\n",
    "    n = X.shape[0]\n",
    "    D = get_pairwise_distances(X)\n",
    "    estimates = []\n",
    "    m_hat = []\n",
    "    #for every point, find the local estimate\n",
    "    for k in range(k1, k2):\n",
    "        m = []\n",
    "        for i in range(n):\n",
    "            neigh_indices = np.argsort(D[i])[1:k+1]\n",
    "            m.append(local(X, neigh_indices, i, k))\n",
    "        m_hat.append(1 / np.average(np.reciprocal(m)))\n",
    "    return 1 / (k2 - k1 + 1) * np.sum(m_hat)\n",
    "        \n",
    "def local(X, neigh_indices, i, k):\n",
    "    s = 0\n",
    "    for j in range(k):\n",
    "        s += np.log(distance(X[i], X[neigh_indices[-1]]) / distance(X[i], X[neigh_indices[j]]))\n",
    "    return (1 / (k-1) * s)**-1\n",
    "    \n",
    "def jl(X, m, epsilon = 0.5, num_trials = 10):\n",
    "    n = X.shape[0]\n",
    "    d = X.shape[1]\n",
    "    results = []\n",
    "    A = np.zeros((d,m))\n",
    "    for k in range(num_trials):\n",
    "        print(k)\n",
    "        for i in range(d):\n",
    "            for j in range(m):\n",
    "                A[i,j] = np.random.normal()\n",
    "        A = A * 1/m\n",
    "        results += loss(X, X@A, 1)#np.sqrt(m/d))\n",
    "    return results\n",
    "#     for i in range(d):\n",
    "#         for j in range(m):\n",
    "#             A[i,j] = np.random.normal(0, 1/d)\n",
    "#     return X @ A\n",
    "\n",
    "#define loss as the maximum distortion of any pair of distances\n",
    "def loss(X, B, const):\n",
    "    n = X.shape[0]\n",
    "    original_distances = get_pairwise_sq_distances(X)\n",
    "    embedded_distances = get_pairwise_sq_distances(B)\n",
    "    for i in range(n):\n",
    "        original_distances[i,i] = 1\n",
    "    M = embedded_distances / original_distances * const\n",
    "    for i in range(n):\n",
    "        M[i,i] = 1\n",
    "    loss = []\n",
    "    for i in range(n):\n",
    "        for j in range(i+1, n):\n",
    "            loss.append(M[i,j])\n",
    "    return loss\n",
    "    \n",
    "\n",
    "def validate(X, A, epsilon):\n",
    "    n = X.shape[0]\n",
    "    original_distances = np.square(get_pairwise_distances(X))\n",
    "    embedded_distances = np.square(get_pairwise_distances(A))\n",
    "    M = embedded_distances / original_distances\n",
    "    for i in range(n):\n",
    "        M[i,i] = 1\n",
    "    print(M)\n",
    "    for i in range(n):\n",
    "        for j in range(i, n):\n",
    "            if M[i,j] > 1 + epsilon or M[i,j] < 1 - epsilon:\n",
    "                return False\n",
    "    return True"
   ]
  },
  {
   "cell_type": "code",
   "execution_count": 6,
   "metadata": {},
   "outputs": [],
   "source": [
    "d = 500\n",
    "k = 50\n",
    "n = 5000\n",
    "m_ = [10,25,50,75,100,200,300]\n",
    "data = generate_spheres(d, k, 1, n)\n",
    "results = []\n",
    "for m in m_:\n",
    "    results.append(jl(data, m))"
   ]
  },
  {
   "cell_type": "code",
   "execution_count": 5,
   "metadata": {},
   "outputs": [],
   "source": [
    "stderror = np.genfromtxt('concentration.csv', delimiter=',')\n",
    "stderror2 = np.genfromtxt('concentration_sqrt.csv', delimiter=',')"
   ]
  },
  {
   "cell_type": "code",
   "execution_count": 8,
   "metadata": {},
   "outputs": [
    {
     "data": {
      "image/png": "[encoded data removed]",
      "text/plain": [
       "<Figure size 432x288 with 1 Axes>"
      ]
     },
     "metadata": {
      "needs_background": "light"
     },
     "output_type": "display_data"
    }
   ],
   "source": [
    "title = \"Concentration of distribution vs Log of embedding dimension\"\n",
    "plt.figure()\n",
    "plt.plot(np.log(m_), stderror)\n",
    "plt.title(title)\n",
    "plt.xticks(np.log(m_))\n",
    "plt.xlabel(\"log(m)\")\n",
    "plt.ylabel(\"Concentration\")\n",
    "#plt.show()\n",
    "plt.savefig(\"fig/{}.png\".format(title.replace(\":\", \"_\").replace(\" \", \"_\")), dpi = 400)"
   ]
  },
  {
   "cell_type": "code",
   "execution_count": null,
   "metadata": {},
   "outputs": [],
   "source": [
    "plt.figure(1)\n",
    "plt.hist(results[0], bins = 100)\n",
    "plt.show()"
   ]
  },
  {
   "cell_type": "code",
   "execution_count": null,
   "metadata": {},
   "outputs": [],
   "source": [
    "d = 500\n",
    "k = 50\n",
    "n = 5000\n",
    "m = 50\n",
    "data = generate_spheres(d, k, 1, n)\n",
    "results = jl(data, m)\n",
    "# plt.figure()\n",
    "# plt.scatter(embedded[:,0], embedded[:,1], alpha = 0.4)\n",
    "# plt.axis('equal')\n",
    "# plt.show()\n",
    "\n",
    "plt.figure()\n",
    "plt.hist(results, bins = 100, density = True)\n",
    "plt.show()"
   ]
  },
  {
   "cell_type": "code",
   "execution_count": 17,
   "metadata": {},
   "outputs": [
    {
     "name": "stdout",
     "output_type": "stream",
     "text": [
      "0\n",
      "1\n",
      "2\n",
      "3\n",
      "4\n",
      "5\n",
      "6\n",
      "7\n",
      "8\n",
      "9\n"
     ]
    }
   ],
   "source": [
    "d = 500\n",
    "k = 50\n",
    "n = 5000\n",
    "e = 50\n",
    "data = generate_spheres(d, k, 1, n)\n",
    "results = jl(data, e)\n",
    "# plt.figure()\n",
    "# plt.scatter(embedded[:,0], embedded[:,1], alpha = 0.4)\n",
    "# plt.axis('equal')\n",
    "# plt.show()"
   ]
  },
  {
   "cell_type": "code",
   "execution_count": 18,
   "metadata": {},
   "outputs": [
    {
     "data": {
      "image/png": "[encoded data removed]",
      "text/plain": [
       "<Figure size 432x288 with 1 Axes>"
      ]
     },
     "metadata": {
      "needs_background": "light"
     },
     "output_type": "display_data"
    }
   ],
   "source": [
    "plt.figure()\n",
    "plt.title(\"Ratio of pairwise distances in embedded space vs ambient space\\nm = {}\".format(e))\n",
    "plt.hist(results, bins = 100)\n",
    "plt.savefig(\"fig/bla20.png\", dpi = 400)"
   ]
  },
  {
   "cell_type": "code",
   "execution_count": 221,
   "metadata": {},
   "outputs": [
    {
     "data": {
      "image/png": "[encoded data removed]",
      "text/plain": [
       "<Figure size 432x288 with 1 Axes>"
      ]
     },
     "metadata": {
      "needs_background": "light"
     },
     "output_type": "display_data"
    }
   ],
   "source": [
    "plt.figure()\n",
    "plt.plot(np.log2(num_points), np.array(results) * 100)\n",
    "title = \"Cube Data: Error in prediction vs Number of points\"\n",
    "plt.title(title)\n",
    "plt.xticks(np.log2(num_points))\n",
    "plt.xlabel(\"Log2 Number of Points\")\n",
    "plt.ylabel(\"Error %\")\n",
    "#plt.show()\n",
    "plt.savefig(\"fig/{}.png\".format(title.replace(\":\", \"_\").replace(\" \", \"_\")), dpi = 400)"
   ]
  }
 ],
 "metadata": {
  "kernelspec": {
   "display_name": "Python 3",
   "language": "python",
   "name": "python3"
  },
  "language_info": {
   "codemirror_mode": {
    "name": "ipython",
    "version": 3
   },
   "file_extension": ".py",
   "mimetype": "text/x-python",
   "name": "python",
   "nbconvert_exporter": "python",
   "pygments_lexer": "ipython3",
   "version": "3.6.9"
  }
 },
 "nbformat": 4,
 "nbformat_minor": 2
}
